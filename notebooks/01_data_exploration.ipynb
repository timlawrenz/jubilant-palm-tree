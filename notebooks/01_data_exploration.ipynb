{
 "cells": [
  {
   "cell_type": "markdown",
   "metadata": {},
   "source": [
    "# Ruby Method Data Exploration\n",
    "\n",
    "This notebook explores the extracted Ruby method data and prepares it for GNN training."
   ]
  },
  {
   "cell_type": "code",
   "execution_count": null,
   "metadata": {},
   "outputs": [],
   "source": [
    "import sys\n",
    "import os\n",
    "sys.path.append(os.path.join(os.getcwd(), '..', 'src'))\n",
    "\n",
    "import pandas as pd\n",
    "import matplotlib.pyplot as plt\n",
    "import seaborn as sns\n",
    "from data_processing import load_methods_json, methods_to_dataframe, filter_methods_by_length"
   ]
  },
  {
   "cell_type": "markdown",
   "metadata": {},
   "source": [
    "## Load and Explore Data"
   ]
  },
  {
   "cell_type": "code",
   "execution_count": null,
   "metadata": {},
   "outputs": [],
   "source": [
    "# Load the extracted Ruby methods\n",
    "methods = load_methods_json('../output/methods.json')\n",
    "df = methods_to_dataframe(methods)\n",
    "\n",
    "print(f\"Loaded {len(df)} Ruby methods\")\n",
    "print(f\"Columns: {list(df.columns)}\")\n",
    "df.head()"
   ]
  },
  {
   "cell_type": "markdown",
   "metadata": {},
   "source": [
    "## Data Statistics"
   ]
  },
  {
   "cell_type": "code",
   "execution_count": null,
   "metadata": {},
   "outputs": [],
   "source": [
    "# Analyze method lengths\n",
    "df['line_count'] = df['raw_source'].apply(lambda x: len(x.split('\\n')))\n",
    "\n",
    "plt.figure(figsize=(12, 4))\n",
    "\n",
    "plt.subplot(1, 2, 1)\n",
    "plt.hist(df['line_count'], bins=50, alpha=0.7)\n",
    "plt.xlabel('Lines of Code')\n",
    "plt.ylabel('Number of Methods')\n",
    "plt.title('Distribution of Method Lengths')\n",
    "\n",
    "plt.subplot(1, 2, 2)\n",
    "repo_counts = df['repo_name'].value_counts()\n",
    "plt.bar(repo_counts.index, repo_counts.values)\n",
    "plt.xlabel('Repository')\n",
    "plt.ylabel('Number of Methods')\n",
    "plt.title('Methods per Repository')\n",
    "plt.xticks(rotation=45)\n",
    "\n",
    "plt.tight_layout()\n",
    "plt.show()\n",
    "\n",
    "print(f\"Method length statistics:\")\n",
    "print(df['line_count'].describe())"
   ]
  },
  {
   "cell_type": "markdown",
   "metadata": {},
   "source": [
    "## Filter Data for Training"
   ]
  },
  {
   "cell_type": "code",
   "execution_count": null,
   "metadata": {},
   "outputs": [],
   "source": [
    "# Filter methods for reasonable training data\n",
    "filtered_df = filter_methods_by_length(df, min_lines=5, max_lines=50)\n",
    "\n",
    "print(f\"After filtering: {len(filtered_df)} methods\")\n",
    "print(f\"Filtered out {len(df) - len(filtered_df)} methods\")\n",
    "\n",
    "# Show some example methods\n",
    "print(\"\\nExample Ruby methods:\")\n",
    "for i, row in filtered_df.head(3).iterrows():\n",
    "    print(f\"\\n--- Method from {row['repo_name']} ---\")\n",
    "    print(row['raw_source'][:200] + \"...\" if len(row['raw_source']) > 200 else row['raw_source'])"
   ]
  }
 ],
 "metadata": {
  "kernelspec": {
   "display_name": "Python 3",
   "language": "python",
   "name": "python3"
  },
  "language_info": {
   "codemirror_mode": {
    "name": "ipython",
    "version": 3
   },
   "file_extension": ".py",
   "mimetype": "text/x-python",
   "name": "python",
   "nbconvert_exporter": "python",
   "pygments_lexer": "ipython3",
   "version": "3.8.0"
  }
 },
 "nbformat": 4,
 "nbformat_minor": 4
}